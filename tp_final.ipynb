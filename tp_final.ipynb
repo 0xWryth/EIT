{
 "cells": [
  {
   "cell_type": "markdown",
   "metadata": {},
   "source": [
    "# Projet d'extraction d'informations à partir de textes\n",
    "## NLP et Réseau de neurones"
   ]
  },
  {
   "cell_type": "markdown",
   "metadata": {},
   "source": [
    "### Imports"
   ]
  },
  {
   "cell_type": "code",
   "execution_count": 1,
   "metadata": {},
   "outputs": [],
   "source": [
    "# Ne pas enlever les % car il permettent le reload de modules ou l'affichage dans le notebook\n",
    "%matplotlib inline\n",
    "%load_ext autoreload\n",
    "%autoreload 2\n",
    "\n",
    "import os\n",
    "import numpy as np\n",
    "import random\n",
    "import pickle as pkl\n",
    "\n",
    "import matplotlib.pyplot as plt\n",
    "import math\n",
    "import re\n",
    "\n",
    "# Partie 2 : PyTorch\n",
    "import torch\n",
    "import torch as T\n",
    "import torch.nn as nn\n",
    "import torch.nn.functional as F\n",
    "import torch.optim as optim\n",
    "import torch.utils.data as data # attention car on a des variables qui s'appellent data, donc voir si ca buggera a cause de ca\n",
    "\n",
    "import torchtext\n",
    "#from torchtext.data import Field, TabularDataset, BucketIterator\n",
    "from torchtext.legacy.data import Field, TabularDataset, BucketIterator\n",
    "import spacy\n",
    "\n",
    "from sklearn.metrics import f1_score\n",
    "from sklearn.metrics import accuracy_score\n",
    "\n",
    "\n",
    "device = 'cuda' if T.cuda.is_available() else 'cpu'"
   ]
  },
  {
   "cell_type": "markdown",
   "metadata": {},
   "source": [
    "#### Commandes utiles en cas de librairies manquantes"
   ]
  },
  {
   "cell_type": "code",
   "execution_count": 2,
   "metadata": {},
   "outputs": [],
   "source": [
    "# pip install torchtext\n",
    "# !pip3 install -U spacy                       # spaCy lib\n",
    "# !pip3 install torch torchvision torchaudio   # PyTorch (see <pytorch.org/get-started/locally> for GPU support)\n",
    "# !python3 -m spacy download en_core_web_trf    # download spaCy trained pipeline\n",
    "\n",
    "# et pour certains :\n",
    "# pip install transformers -U\n",
    "\n",
    "# et pour tester d'autres modèles :\n",
    "# !python3 -m spacy download xx_ent_wiki_sm    # download spaCy trained pipeline"
   ]
  },
  {
   "cell_type": "markdown",
   "metadata": {},
   "source": [
    "### File processing"
   ]
  },
  {
   "cell_type": "markdown",
   "metadata": {},
   "source": [
    "#### File splitting"
   ]
  },
  {
   "cell_type": "code",
   "execution_count": 3,
   "metadata": {},
   "outputs": [
    {
     "name": "stdout",
     "output_type": "stream",
     "text": [
      "5883\n"
     ]
    }
   ],
   "source": [
    "filename = 'train_label_final.txt'\n",
    "lines = open(filename,\"r\", encoding='UTF-8').readlines()\n",
    "nb_lines = len(lines)\n",
    "nb_lines_half = math.ceil(nb_lines*0.7)\n",
    "# Avec le code actuel, comme on fait nb_lines/2 = nb_lines*0.5, la répartition entre les 2 fichiers est de 50%/50%\n",
    "# Ainsi, si on veut une répartition de 70%/30% pour jeu d'entrainement/validation, il suffit de faire nb_lines*0.7\n",
    "print(nb_lines_half)\n",
    "\n",
    "fout = open(\"output0.txt\",\"wt\", encoding='UTF-8')\n",
    "for i,line in enumerate(lines):\n",
    "    \n",
    "    if((i+1)%nb_lines_half) == 0:\n",
    "        line = str(line).replace('\\n', '')\n",
    "        \n",
    "    if (i%nb_lines_half) == 0:\n",
    "        if fout: fout.close()\n",
    "        fout = open('output%d.txt' % (i/nb_lines_half), 'w', encoding='UTF-8')\n",
    "        \n",
    "    fout.write(line)\n",
    "    \n",
    "fout.close()"
   ]
  },
  {
   "cell_type": "markdown",
   "metadata": {},
   "source": [
    "#### File parsing"
   ]
  },
  {
   "cell_type": "code",
   "execution_count": 4,
   "metadata": {},
   "outputs": [],
   "source": [
    "path = \"./output0.txt\"\n",
    "path2 = \"./output1.txt\""
   ]
  },
  {
   "cell_type": "code",
   "execution_count": 5,
   "metadata": {},
   "outputs": [],
   "source": [
    "def convert_txt_to_csv(path, out):\n",
    "    f = open(path, \"r\", encoding=\"UTF-8\")\n",
    "    lines = f.readlines()\n",
    "    f.close()\n",
    "    decisions = [\"pos\", \"neg\", \"neu\", \"irr\"]\n",
    "\n",
    "    # Future CSV content !\n",
    "    content = \"text,opinion\"\n",
    "\n",
    "    for l in lines:\n",
    "        # Removing empty lines\n",
    "        sl = l.split()\n",
    "        if len(sl) == 0:\n",
    "            continue\n",
    "\n",
    "        # Removing no consensus line\n",
    "        m = re.match(r\"[(](.*),(.*),(consensus)[)]\", sl[0])\n",
    "        if m is None:\n",
    "            continue\n",
    "\n",
    "        # Parsing opinion\n",
    "        try:\n",
    "            opinion = m.string.split(\",\")[1]\n",
    "            if opinion in decisions:\n",
    "                # Opinion string is converted to an integer value\n",
    "                index = decisions.index(opinion)\n",
    "\n",
    "                # Removing opinion\n",
    "                text = re.sub(r\"[(](.*),(.*),(consensus)[)]\", \"\", l)\n",
    "\n",
    "                # Removing comma since comma is CSV separator\n",
    "                text = text.replace(\",\", \" \")\n",
    "\n",
    "                # Remvoing extra \\n\n",
    "                text = text.replace(\"\\n\", \" \")\n",
    "\n",
    "                # Removing extra space\n",
    "                text = ' '.join(text.split())\n",
    "\n",
    "                content = content + \"\\n\" + text + \",\" + str(index) \n",
    "            else:\n",
    "                # Found opinion is... Wrong !\n",
    "                continue\n",
    "        except:\n",
    "            # Opinion is not found on the line\n",
    "            continue\n",
    "\n",
    "    # Writing CSV content to out file\n",
    "    csv = open(out, \"w\", encoding=\"UTF-8\")\n",
    "    csv.write(content)\n",
    "    csv.close()"
   ]
  },
  {
   "cell_type": "code",
   "execution_count": 6,
   "metadata": {},
   "outputs": [],
   "source": [
    "convert_txt_to_csv(path, \"dataset.csv\")\n",
    "convert_txt_to_csv(path2, \"dataset2.csv\")"
   ]
  },
  {
   "cell_type": "markdown",
   "metadata": {},
   "source": [
    "### Lecture et traitement des données & Tokenization"
   ]
  },
  {
   "cell_type": "markdown",
   "metadata": {},
   "source": [
    "#### Méthode de Tokenization"
   ]
  },
  {
   "cell_type": "code",
   "execution_count": 7,
   "metadata": {},
   "outputs": [],
   "source": [
    "# TODO: find a way to merge EN & FR language pipelines\n",
    "spacy_en = spacy.load('en_core_web_trf')\n",
    "#spacy_en = spacy.load('xx_ent_wiki_sm') # multi language to test --> plus nul. Voir comment utiliser 2 en meme temps plutot\n",
    "\n",
    "def tokenizer(text): # create a tokenizer function\n",
    "    return [tok.text for tok in spacy_en.tokenizer(text)]"
   ]
  },
  {
   "cell_type": "markdown",
   "metadata": {},
   "source": [
    "#### Prétraitement sur le texte"
   ]
  },
  {
   "cell_type": "code",
   "execution_count": 8,
   "metadata": {},
   "outputs": [],
   "source": [
    "X_constructor = Field(sequential = True, lower = True, include_lengths = False,\n",
    "            pad_token = \"<pad>\", unk_token = \"<unk>\",\n",
    "            batch_first = True, tokenize = tokenizer)\n",
    "\n",
    "Y_constructor = Field(sequential=False, use_vocab=False)"
   ]
  },
  {
   "cell_type": "markdown",
   "metadata": {},
   "source": [
    "#### Création des datasets"
   ]
  },
  {
   "cell_type": "code",
   "execution_count": 9,
   "metadata": {},
   "outputs": [],
   "source": [
    "train_dataset, test_dataset = TabularDataset.splits(\n",
    "    path=\"./\", format=\"csv\", \n",
    "    train='dataset.csv', test='dataset2.csv',\n",
    "    skip_header = True,\n",
    "    fields=[('x', X_constructor), ('y', Y_constructor)])\n",
    "\n",
    "#train_dataset[0].x"
   ]
  },
  {
   "cell_type": "markdown",
   "metadata": {},
   "source": [
    "#### Gestion des batchs"
   ]
  },
  {
   "cell_type": "code",
   "execution_count": 10,
   "metadata": {},
   "outputs": [],
   "source": [
    "batch_size = 160\n",
    "\n",
    "train_iter, test_iter = BucketIterator.splits(\n",
    "    (train_dataset, test_dataset), batch_size=batch_size,\n",
    "    sort_key = lambda m: len(m.x), device=device,\n",
    "    sort_within_batch = True, shuffle = True, repeat=False)"
   ]
  },
  {
   "cell_type": "markdown",
   "metadata": {},
   "source": [
    "#### Gestion du vocabulaire et des word Embeddings"
   ]
  },
  {
   "cell_type": "code",
   "execution_count": 11,
   "metadata": {},
   "outputs": [
    {
     "data": {
      "text/plain": [
       "tensor([[ 93,  29, 335,  ...,  14, 151,  10],\n",
       "        [  2,   0,  58,  ...,  67,   4,   0],\n",
       "        [ 15,   0,   7,  ..., 137,   2,   6],\n",
       "        ...,\n",
       "        [ 54, 467,  24,  ..., 974,   1,   1],\n",
       "        [139,   0,  44,  ...,   5,   1,   1],\n",
       "        [  0,  95,   2,  ...,   0,   1,   1]])"
      ]
     },
     "execution_count": 11,
     "metadata": {},
     "output_type": "execute_result"
    }
   ],
   "source": [
    "X_constructor.build_vocab(train_dataset, min_freq=2, vectors = 'glove.6B.50d')\n",
    "#X_constructor.build_vocab(train_dataset, min_freq=2, vectors = 'glove.6B.100d')\n",
    "batch = next(iter(train_iter))\n",
    "\n",
    "batch.x"
   ]
  },
  {
   "cell_type": "markdown",
   "metadata": {},
   "source": [
    "### Création du modèle"
   ]
  },
  {
   "cell_type": "code",
   "execution_count": 12,
   "metadata": {},
   "outputs": [],
   "source": [
    "class Model(nn.Module):\n",
    "    def __init__(self, embedding_dim=50):\n",
    "    #def __init__(self, embedding_dim=100):\n",
    "        super(Model, self).__init__()\n",
    "        self.embeddings = nn.Embedding.from_pretrained(X_constructor.vocab.vectors, freeze = False)# une couche qui ne marche qu'avec les imports qui ne marchent pas...\n",
    "        self.lstm = nn.LSTM(input_size = embedding_dim, hidden_size = embedding_dim, batch_first=True)\n",
    "        self.fc = nn.Linear(embedding_dim, 4) # 4 car {pos,neg,neu,irr}\n",
    "        self.softmax = nn.LogSoftmax(dim=1) # not triman --> le prof (couche d'activation)\n",
    "    \n",
    "    def forward(self, inputs):\n",
    "        embeds = self.embeddings(inputs) # pour faire le lien entre indice et vecteur du mot associé\n",
    "        outputs, (h_n,c_n) = self.lstm(embeds)\n",
    "        y = h_n[0]\n",
    "        y = self.fc(y)\n",
    "        preds = self.softmax(y) # not triman --> le prof (couche d'activation)\n",
    "        return preds"
   ]
  },
  {
   "cell_type": "code",
   "execution_count": 13,
   "metadata": {},
   "outputs": [],
   "source": [
    "model = Model(embedding_dim = 50).to(device)\n",
    "#model = Model(embedding_dim = 100).to(device)\n",
    "# embedding_dim = 50 car la taille de chaque vecteur de représentation des mots par l'embedding utilisé à partir de\n",
    "# la base du fichier \"glove.6B.50d\", est de taille 50."
   ]
  },
  {
   "cell_type": "code",
   "execution_count": 14,
   "metadata": {},
   "outputs": [
    {
     "data": {
      "text/plain": [
       "Model(\n",
       "  (embeddings): Embedding(1981, 50)\n",
       "  (lstm): LSTM(50, 50, batch_first=True)\n",
       "  (fc): Linear(in_features=50, out_features=4, bias=True)\n",
       "  (softmax): LogSoftmax(dim=1)\n",
       ")"
      ]
     },
     "execution_count": 14,
     "metadata": {},
     "output_type": "execute_result"
    }
   ],
   "source": [
    "model"
   ]
  },
  {
   "cell_type": "markdown",
   "metadata": {},
   "source": [
    "### Boucles d'entraînement et de mesure des performances"
   ]
  },
  {
   "cell_type": "code",
   "execution_count": 15,
   "metadata": {},
   "outputs": [],
   "source": [
    "def collate(batch):\n",
    "    transposed_data = list(zip(*batch))\n",
    "    return T.stack(transposed_data[0], 0), T.stack(transposed_data[1], 0)\n",
    "\n",
    "def train(epochs=100, batch_size=batch_size, lr = 1e-3):\n",
    "    #model = Model(len(train_X[0]), 4).to(device)\n",
    "    \n",
    "    optimizer = T.optim.Adam(model.parameters(), lr=lr)\n",
    "    #optimizer = optim.Adam(model.parameters(), lr=0.01) # triman\n",
    "    criterion = nn.NLLLoss() # Pour calculer la crossentropy, il faut calculer la NLLL après un logsofmax\n",
    "    #criterion = nn.CrossEntropyLoss() # triman\n",
    "    \n",
    "    ## Transformation des données pour l'entraînement\n",
    "    #trn_X = [T.tensor(x, dtype=T.long) for x in train_X]\n",
    "    #trn_Y = [T.tensor(y, dtype=T.long) for y in train_Y]\n",
    "    \n",
    "    #vld_X = [T.tensor(x, dtype=T.long) for x in valid_X]\n",
    "    #vld_Y = [T.tensor(y, dtype=T.long) for y in valid_Y]\n",
    "    \n",
    "    \"\"\"\n",
    "    #trn_X = T.tensor(train_X, dtype=T.float)\n",
    "    #trn_Y = T.tensor(train_Y, dtype=T.long)\n",
    "    \n",
    "    #vld_X = T.tensor(valid_X, dtype=T.float)\n",
    "    #vld_Y = T.tensor(valid_Y, dtype=T.long)\n",
    "    \n",
    "    train_set = data.TensorDataset(trn_X, trn_Y)\n",
    "    valid_set = data.TensorDataset(vld_X, vld_Y)\n",
    "    \"\"\"\n",
    "    \n",
    "    \"\"\"\n",
    "    ## Creation des loaders\n",
    "    train_sampler = data.BatchSampler(data.RandomSampler(range(len(train_X))), batch_size, False)\n",
    "    valid_sampler = data.BatchSampler(data.SequentialSampler(range(len(valid_X))), len(valid_X), False)\n",
    "    \n",
    "    train_loader = data.DataLoader(train_set, batch_sampler=train_sampler, collate_fn=collate)\n",
    "    valid_loader = data.DataLoader(valid_set, batch_sampler=valid_sampler, collate_fn=collate)\n",
    "    \"\"\"\n",
    "    \n",
    "    losses = []\n",
    "    f1_valid = []\n",
    "        \n",
    "    for e in range(epochs):\n",
    "        model.train() #passe votre modele en phase d'entrainement\n",
    "        \n",
    "        for i in range(0, train_iter.batch_size):\n",
    "            try:\n",
    "                #optimizer.zero_grad()\n",
    "                \n",
    "                batch = next(iter(train_iter))\n",
    "                data = batch.x.to(device)\n",
    "                labels = batch.y.to(device)\n",
    "\n",
    "                preds = model(data)\n",
    "                loss = criterion(preds, labels)\n",
    "                \n",
    "                losses.append(loss.item())\n",
    "                \n",
    "                optimizer.zero_grad()\n",
    "                loss.backward()\n",
    "                optimizer.step()\n",
    "            except:\n",
    "                print(\"not done\")\n",
    "                \n",
    "        #optimizer.zero_grad()\n",
    "        model.eval()\n",
    "\n",
    "        \n",
    "        with torch.no_grad():\n",
    "            for j in range(0, test_iter.batch_size):\n",
    "                try:\n",
    "                    batch = next(iter(test_iter))\n",
    "                    data = batch.x.to(device)\n",
    "                    labels = batch.y.to(device)\n",
    "\n",
    "                    preds_val = model(data)\n",
    "                    preds = T.argmax(preds_val, dim=1)\n",
    "                    #_, preds = torch.max(preds_val.data, 1)\n",
    "                    \n",
    "                    f1_valid.append(f1_score(labels.to('cpu').numpy(), preds.to('cpu').numpy(), average='micro',\n",
    "                                labels=[i for i in range(4)]))\n",
    "                except:\n",
    "                    print(\"error\")\n",
    "\n",
    "        print(f\"F1 {e}/{epochs}: {f1_valid[-1]}\")\n",
    "        \n",
    "    \n",
    "    return model, losses, f1_valid"
   ]
  },
  {
   "cell_type": "code",
   "execution_count": 16,
   "metadata": {},
   "outputs": [
    {
     "name": "stdout",
     "output_type": "stream",
     "text": [
      "F1 0/200: 0.39375\n",
      "F1 1/200: 0.6\n",
      "F1 2/200: 0.58125\n",
      "F1 3/200: 0.63125\n",
      "F1 4/200: 0.6\n",
      "F1 5/200: 0.63125\n",
      "F1 6/200: 0.6375\n",
      "F1 7/200: 0.6375\n",
      "F1 8/200: 0.61875\n",
      "F1 9/200: 0.625\n",
      "F1 10/200: 0.625\n",
      "F1 11/200: 0.63125\n",
      "F1 12/200: 0.61875\n",
      "F1 13/200: 0.625\n",
      "F1 14/200: 0.63125\n",
      "F1 15/200: 0.63125\n",
      "F1 16/200: 0.6375\n",
      "F1 17/200: 0.65\n",
      "F1 18/200: 0.65\n",
      "F1 19/200: 0.6625\n",
      "F1 20/200: 0.6625\n",
      "F1 21/200: 0.65625\n",
      "F1 22/200: 0.66875\n",
      "F1 23/200: 0.66875\n",
      "F1 24/200: 0.66875\n",
      "F1 25/200: 0.675\n",
      "F1 26/200: 0.675\n",
      "F1 27/200: 0.65625\n",
      "F1 28/200: 0.6625\n",
      "F1 29/200: 0.65625\n",
      "F1 30/200: 0.6625\n",
      "F1 31/200: 0.65625\n",
      "F1 32/200: 0.6625\n",
      "F1 33/200: 0.675\n",
      "F1 34/200: 0.65\n",
      "F1 35/200: 0.64375\n",
      "F1 36/200: 0.6625\n",
      "F1 37/200: 0.6625\n",
      "F1 38/200: 0.65\n",
      "F1 39/200: 0.65625\n",
      "F1 40/200: 0.65625\n",
      "F1 41/200: 0.65625\n",
      "F1 42/200: 0.64375\n",
      "F1 43/200: 0.6375\n",
      "F1 44/200: 0.64375\n",
      "F1 45/200: 0.65625\n",
      "F1 46/200: 0.65\n",
      "F1 47/200: 0.65\n",
      "F1 48/200: 0.64375\n",
      "F1 49/200: 0.63125\n",
      "F1 50/200: 0.6375\n",
      "F1 51/200: 0.64375\n",
      "F1 52/200: 0.64375\n",
      "F1 53/200: 0.6375\n",
      "F1 54/200: 0.6375\n",
      "F1 55/200: 0.6375\n",
      "F1 56/200: 0.63125\n",
      "F1 57/200: 0.65\n",
      "F1 58/200: 0.63125\n",
      "F1 59/200: 0.65625\n",
      "F1 60/200: 0.64375\n",
      "F1 61/200: 0.64375\n",
      "F1 62/200: 0.64375\n",
      "F1 63/200: 0.64375\n",
      "F1 64/200: 0.64375\n",
      "F1 65/200: 0.64375\n",
      "F1 66/200: 0.65\n",
      "F1 67/200: 0.6375\n",
      "F1 68/200: 0.64375\n",
      "F1 69/200: 0.65\n",
      "F1 70/200: 0.64375\n",
      "F1 71/200: 0.65\n",
      "F1 72/200: 0.65\n",
      "F1 73/200: 0.65\n",
      "F1 74/200: 0.64375\n",
      "F1 75/200: 0.65625\n",
      "F1 76/200: 0.6375\n",
      "F1 77/200: 0.6375\n",
      "F1 78/200: 0.65\n",
      "F1 79/200: 0.65625\n",
      "F1 80/200: 0.65625\n",
      "F1 81/200: 0.65625\n",
      "F1 82/200: 0.65625\n",
      "F1 83/200: 0.65625\n",
      "F1 84/200: 0.65\n",
      "F1 85/200: 0.64375\n",
      "F1 86/200: 0.65\n",
      "F1 87/200: 0.65\n",
      "F1 88/200: 0.65625\n",
      "F1 89/200: 0.65\n",
      "F1 90/200: 0.64375\n",
      "F1 91/200: 0.65\n",
      "F1 92/200: 0.65625\n",
      "F1 93/200: 0.64375\n",
      "F1 94/200: 0.65625\n",
      "F1 95/200: 0.70625\n",
      "F1 96/200: 0.68125\n",
      "F1 97/200: 0.675\n",
      "F1 98/200: 0.68125\n",
      "F1 99/200: 0.66875\n",
      "F1 100/200: 0.66875\n",
      "F1 101/200: 0.66875\n",
      "F1 102/200: 0.66875\n",
      "F1 103/200: 0.66875\n",
      "F1 104/200: 0.66875\n",
      "F1 105/200: 0.66875\n",
      "F1 106/200: 0.66875\n",
      "F1 107/200: 0.66875\n",
      "F1 108/200: 0.66875\n",
      "F1 109/200: 0.66875\n",
      "F1 110/200: 0.6625\n",
      "F1 111/200: 0.66875\n",
      "F1 112/200: 0.65625\n",
      "F1 113/200: 0.66875\n",
      "F1 114/200: 0.65\n",
      "F1 115/200: 0.65625\n",
      "F1 116/200: 0.65\n",
      "F1 117/200: 0.65\n",
      "F1 118/200: 0.64375\n",
      "F1 119/200: 0.69375\n",
      "F1 120/200: 0.65625\n",
      "F1 121/200: 0.65\n",
      "F1 122/200: 0.65\n",
      "F1 123/200: 0.65\n",
      "F1 124/200: 0.65\n",
      "F1 125/200: 0.64375\n",
      "F1 126/200: 0.65\n",
      "F1 127/200: 0.65\n",
      "F1 128/200: 0.65\n",
      "F1 129/200: 0.65\n",
      "F1 130/200: 0.64375\n",
      "F1 131/200: 0.65\n",
      "F1 132/200: 0.65\n",
      "F1 133/200: 0.65\n",
      "F1 134/200: 0.64375\n",
      "F1 135/200: 0.65625\n",
      "F1 136/200: 0.66875\n",
      "F1 137/200: 0.66875\n",
      "F1 138/200: 0.6625\n",
      "F1 139/200: 0.65\n",
      "F1 140/200: 0.65625\n",
      "F1 141/200: 0.69375\n",
      "F1 142/200: 0.68125\n",
      "F1 143/200: 0.68125\n",
      "F1 144/200: 0.6875\n",
      "F1 145/200: 0.6875\n",
      "F1 146/200: 0.69375\n",
      "F1 147/200: 0.69375\n",
      "F1 148/200: 0.6875\n",
      "F1 149/200: 0.6875\n",
      "F1 150/200: 0.6875\n",
      "F1 151/200: 0.68125\n",
      "F1 152/200: 0.69375\n",
      "F1 153/200: 0.69375\n",
      "F1 154/200: 0.6875\n",
      "F1 155/200: 0.6875\n",
      "F1 156/200: 0.6875\n",
      "F1 157/200: 0.68125\n",
      "F1 158/200: 0.6875\n",
      "F1 159/200: 0.6875\n",
      "F1 160/200: 0.68125\n",
      "F1 161/200: 0.68125\n",
      "F1 162/200: 0.68125\n",
      "F1 163/200: 0.68125\n",
      "F1 164/200: 0.675\n",
      "F1 165/200: 0.6875\n",
      "F1 166/200: 0.6875\n",
      "F1 167/200: 0.6875\n",
      "F1 168/200: 0.6875\n",
      "F1 169/200: 0.69375\n",
      "F1 170/200: 0.6875\n",
      "F1 171/200: 0.675\n",
      "F1 172/200: 0.6875\n",
      "F1 173/200: 0.6875\n",
      "F1 174/200: 0.68125\n",
      "F1 175/200: 0.6875\n",
      "F1 176/200: 0.68125\n",
      "F1 177/200: 0.68125\n",
      "F1 178/200: 0.675\n",
      "F1 179/200: 0.69375\n",
      "F1 180/200: 0.69375\n",
      "F1 181/200: 0.7\n",
      "F1 182/200: 0.6875\n",
      "F1 183/200: 0.68125\n",
      "F1 184/200: 0.68125\n",
      "F1 185/200: 0.68125\n",
      "F1 186/200: 0.68125\n",
      "F1 187/200: 0.6875\n",
      "F1 188/200: 0.68125\n",
      "F1 189/200: 0.68125\n",
      "F1 190/200: 0.68125\n",
      "F1 191/200: 0.68125\n",
      "F1 192/200: 0.68125\n",
      "F1 193/200: 0.68125\n",
      "F1 194/200: 0.68125\n",
      "F1 195/200: 0.675\n",
      "F1 196/200: 0.675\n",
      "F1 197/200: 0.675\n",
      "F1 198/200: 0.675\n",
      "F1 199/200: 0.68125\n"
     ]
    }
   ],
   "source": [
    "model, losses, f1_valid = train(epochs=200, lr=1e-4) # batch_size=(batch_size = 160)\n",
    "# De base : epochs=100, batch_size=64, lr = 1e-3"
   ]
  },
  {
   "cell_type": "markdown",
   "metadata": {},
   "source": [
    "### Résultats et scores"
   ]
  },
  {
   "cell_type": "markdown",
   "metadata": {},
   "source": [
    "#### Losses"
   ]
  },
  {
   "cell_type": "code",
   "execution_count": 17,
   "metadata": {},
   "outputs": [
    {
     "data": {
      "image/png": "[encoded data removed]",
      "text/plain": [
       "<Figure size 432x288 with 1 Axes>"
      ]
     },
     "metadata": {
      "needs_background": "light"
     },
     "output_type": "display_data"
    }
   ],
   "source": [
    "plt.plot([x/(len(losses)/100) for x in range(len(losses))],losses, label=\"loss\")\n",
    "plt.legend(loc='best')\n",
    "plt.show()"
   ]
  },
  {
   "cell_type": "markdown",
   "metadata": {},
   "source": [
    "#### f1_score"
   ]
  },
  {
   "cell_type": "code",
   "execution_count": 18,
   "metadata": {},
   "outputs": [
    {
     "ename": "IndexError",
     "evalue": "index 15200 is out of bounds for axis 0 with size 200",
     "output_type": "error",
     "traceback": [
      "\u001b[1;31m---------------------------------------------------------------------------\u001b[0m",
      "\u001b[1;31mIndexError\u001b[0m                                Traceback (most recent call last)",
      "\u001b[1;32m<ipython-input-18-8847dac62132>\u001b[0m in \u001b[0;36m<module>\u001b[1;34m\u001b[0m\n\u001b[0;32m      3\u001b[0m \u001b[1;33m\u001b[0m\u001b[0m\n\u001b[0;32m      4\u001b[0m \u001b[0mbestIndex\u001b[0m \u001b[1;33m=\u001b[0m \u001b[0mnp\u001b[0m\u001b[1;33m.\u001b[0m\u001b[0margmax\u001b[0m\u001b[1;33m(\u001b[0m\u001b[0mf1_valid\u001b[0m\u001b[1;33m)\u001b[0m\u001b[1;33m\u001b[0m\u001b[1;33m\u001b[0m\u001b[0m\n\u001b[1;32m----> 5\u001b[1;33m \u001b[0mbestNC\u001b[0m\u001b[1;33m,\u001b[0m \u001b[0mbestScore\u001b[0m \u001b[1;33m=\u001b[0m \u001b[0mnp\u001b[0m\u001b[1;33m.\u001b[0m\u001b[0marange\u001b[0m\u001b[1;33m(\u001b[0m\u001b[1;36m0\u001b[0m\u001b[1;33m,\u001b[0m \u001b[1;36m200\u001b[0m\u001b[1;33m,\u001b[0m \u001b[1;36m1\u001b[0m\u001b[1;33m)\u001b[0m\u001b[1;33m[\u001b[0m\u001b[0mbestIndex\u001b[0m\u001b[1;33m]\u001b[0m\u001b[1;33m,\u001b[0m \u001b[0mf1_valid\u001b[0m\u001b[1;33m[\u001b[0m\u001b[0mbestIndex\u001b[0m\u001b[1;33m]\u001b[0m\u001b[1;33m\u001b[0m\u001b[1;33m\u001b[0m\u001b[0m\n\u001b[0m\u001b[0;32m      6\u001b[0m \u001b[0mplt\u001b[0m\u001b[1;33m.\u001b[0m\u001b[0mplot\u001b[0m\u001b[1;33m(\u001b[0m\u001b[0mbestNC\u001b[0m\u001b[1;33m,\u001b[0m \u001b[0mf1_valid\u001b[0m\u001b[1;33m[\u001b[0m\u001b[0mbestIndex\u001b[0m\u001b[1;33m]\u001b[0m\u001b[1;33m,\u001b[0m \u001b[0mmarker\u001b[0m\u001b[1;33m=\u001b[0m\u001b[1;34m'X'\u001b[0m\u001b[1;33m,\u001b[0m \u001b[0mcolor\u001b[0m\u001b[1;33m=\u001b[0m\u001b[1;34m'green'\u001b[0m\u001b[1;33m)\u001b[0m\u001b[1;33m\u001b[0m\u001b[1;33m\u001b[0m\u001b[0m\n\u001b[0;32m      7\u001b[0m \u001b[0mplt\u001b[0m\u001b[1;33m.\u001b[0m\u001b[0mtitle\u001b[0m\u001b[1;33m(\u001b[0m\u001b[1;34m\"Best score: ~{0:.1%} (obtained on {1})\"\u001b[0m\u001b[1;33m.\u001b[0m\u001b[0mformat\u001b[0m\u001b[1;33m(\u001b[0m\u001b[0mbestScore\u001b[0m\u001b[1;33m,\u001b[0m \u001b[0mdevice\u001b[0m\u001b[1;33m)\u001b[0m\u001b[1;33m)\u001b[0m\u001b[1;33m\u001b[0m\u001b[1;33m\u001b[0m\u001b[0m\n",
      "\u001b[1;31mIndexError\u001b[0m: index 15200 is out of bounds for axis 0 with size 200"
     ]
    },
    {
     "data": {
      "image/png": "[encoded data removed]",
      "text/plain": [
       "<Figure size 432x288 with 1 Axes>"
      ]
     },
     "metadata": {
      "needs_background": "light"
     },
     "output_type": "display_data"
    }
   ],
   "source": [
    "plt.plot(f1_valid, label='f1')\n",
    "plt.legend(loc='best')\n",
    "\n",
    "bestIndex = np.argmax(f1_valid)\n",
    "bestNC, bestScore = np.arange(0, 200, 1)[bestIndex], f1_valid[bestIndex]\n",
    "plt.plot(bestNC, f1_valid[bestIndex], marker='X', color='green')\n",
    "plt.title(\"Best score: ~{0:.1%} (obtained on {1})\".format(bestScore, device))\n",
    "\n",
    "plt.show()"
   ]
  },
  {
   "cell_type": "markdown",
   "metadata": {},
   "source": [
    "#### accuracy_score"
   ]
  },
  {
   "cell_type": "code",
   "execution_count": 19,
   "metadata": {},
   "outputs": [],
   "source": [
    "all_labels = []\n",
    "all_preds = []\n",
    "\n",
    "with torch.no_grad():\n",
    "    for j in range(0, test_iter.batch_size):\n",
    "        try:\n",
    "            batch = next(iter(test_iter))\n",
    "            data = batch.x.to(device)\n",
    "            labels = batch.y.to(device)\n",
    "\n",
    "            preds_val = model(data)\n",
    "            #preds = T.argmax(preds_val, dim=1)\n",
    "            _, preds = torch.max(preds_val.data, 1)\n",
    "\n",
    "            all_preds.append(preds.cpu().numpy())\n",
    "            all_labels.append(labels.cpu().numpy())\n",
    "\n",
    "        except:\n",
    "            print(\"error\")\n",
    "\n",
    "all_labels = np.concatenate(all_labels)\n",
    "all_preds = np.concatenate(all_preds)"
   ]
  },
  {
   "cell_type": "code",
   "execution_count": 20,
   "metadata": {},
   "outputs": [
    {
     "data": {
      "text/plain": [
       "0.68125"
      ]
     },
     "execution_count": 20,
     "metadata": {},
     "output_type": "execute_result"
    }
   ],
   "source": [
    "accuracy_score(all_labels,all_preds)"
   ]
  },
  {
   "cell_type": "code",
   "execution_count": 21,
   "metadata": {},
   "outputs": [
    {
     "ename": "ImportError",
     "evalue": "cannot import name 'ConfusionMatrixDisplay' from 'sklearn.metrics' (D:\\AnacondaPython\\lib\\site-packages\\sklearn\\metrics\\__init__.py)",
     "output_type": "error",
     "traceback": [
      "\u001b[1;31m---------------------------------------------------------------------------\u001b[0m",
      "\u001b[1;31mImportError\u001b[0m                               Traceback (most recent call last)",
      "\u001b[1;32m<ipython-input-21-4b29c110e02e>\u001b[0m in \u001b[0;36m<module>\u001b[1;34m\u001b[0m\n\u001b[0;32m      1\u001b[0m \u001b[1;32mfrom\u001b[0m \u001b[0msklearn\u001b[0m\u001b[1;33m.\u001b[0m\u001b[0mmetrics\u001b[0m \u001b[1;32mimport\u001b[0m \u001b[0mconfusion_matrix\u001b[0m\u001b[1;33m\u001b[0m\u001b[1;33m\u001b[0m\u001b[0m\n\u001b[1;32m----> 2\u001b[1;33m \u001b[1;32mfrom\u001b[0m \u001b[0msklearn\u001b[0m\u001b[1;33m.\u001b[0m\u001b[0mmetrics\u001b[0m \u001b[1;32mimport\u001b[0m \u001b[0mConfusionMatrixDisplay\u001b[0m\u001b[1;33m\u001b[0m\u001b[1;33m\u001b[0m\u001b[0m\n\u001b[0m\u001b[0;32m      3\u001b[0m \u001b[1;33m\u001b[0m\u001b[0m\n\u001b[0;32m      4\u001b[0m \u001b[0mmatrice\u001b[0m \u001b[1;33m=\u001b[0m \u001b[0mconfusion_matrix\u001b[0m\u001b[1;33m(\u001b[0m\u001b[0mall_labels\u001b[0m\u001b[1;33m,\u001b[0m \u001b[0mall_preds\u001b[0m\u001b[1;33m)\u001b[0m\u001b[1;33m\u001b[0m\u001b[1;33m\u001b[0m\u001b[0m\n\u001b[0;32m      5\u001b[0m \u001b[0mdisp\u001b[0m \u001b[1;33m=\u001b[0m \u001b[0mConfusionMatrixDisplay\u001b[0m\u001b[1;33m(\u001b[0m\u001b[0mconfusion_matrix\u001b[0m\u001b[1;33m=\u001b[0m\u001b[0mmatrice\u001b[0m\u001b[1;33m,\u001b[0m \u001b[0mdisplay_labels\u001b[0m\u001b[1;33m=\u001b[0m\u001b[1;33m[\u001b[0m\u001b[1;34m'pos'\u001b[0m\u001b[1;33m,\u001b[0m \u001b[1;34m'neg'\u001b[0m\u001b[1;33m,\u001b[0m \u001b[1;34m'neu'\u001b[0m\u001b[1;33m,\u001b[0m \u001b[1;34m'irr'\u001b[0m\u001b[1;33m]\u001b[0m\u001b[1;33m)\u001b[0m\u001b[1;33m\u001b[0m\u001b[1;33m\u001b[0m\u001b[0m\n",
      "\u001b[1;31mImportError\u001b[0m: cannot import name 'ConfusionMatrixDisplay' from 'sklearn.metrics' (D:\\AnacondaPython\\lib\\site-packages\\sklearn\\metrics\\__init__.py)"
     ]
    }
   ],
   "source": [
    "from sklearn.metrics import confusion_matrix\n",
    "from sklearn.metrics import ConfusionMatrixDisplay\n",
    "\n",
    "matrice = confusion_matrix(all_labels, all_preds)\n",
    "disp = ConfusionMatrixDisplay(confusion_matrix=matrice, display_labels=['pos', 'neg', 'neu', 'irr'])\n",
    "disp.plot()\n",
    "plt.show()"
   ]
  },
  {
   "cell_type": "code",
   "execution_count": null,
   "metadata": {},
   "outputs": [],
   "source": []
  }
 ],
 "metadata": {
  "kernelspec": {
   "display_name": "Python 3",
   "language": "python",
   "name": "python3"
  },
  "language_info": {
   "codemirror_mode": {
    "name": "ipython",
    "version": 3
   },
   "file_extension": ".py",
   "mimetype": "text/x-python",
   "name": "python",
   "nbconvert_exporter": "python",
   "pygments_lexer": "ipython3",
   "version": "3.7.4"
  }
 },
 "nbformat": 4,
 "nbformat_minor": 2
}
