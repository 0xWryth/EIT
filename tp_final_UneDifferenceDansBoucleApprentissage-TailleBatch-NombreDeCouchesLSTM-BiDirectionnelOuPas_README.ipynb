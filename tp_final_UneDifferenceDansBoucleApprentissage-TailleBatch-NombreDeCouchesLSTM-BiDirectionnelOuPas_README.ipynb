{
 "cells": [
  {
   "cell_type": "markdown",
   "metadata": {},
   "source": [
    "Lire le nom de ce fichier pour comprendre les paramètres qui varient"
   ]
  },
  {
   "cell_type": "markdown",
   "metadata": {},
   "source": [
    "Svp, regarder la différence des courbes obtenues entre le paramètre \"noIter\" et \"Iter\"\n",
    "\n",
    "\"Iter\" prend beaucoup plus de temps à s'executer MAIS les courbes sont plus stables (cad varient moins) MAIS présentent des pics chelous de loss pour la courbe de loss"
   ]
  },
  {
   "cell_type": "markdown",
   "metadata": {},
   "source": [
    "(Jai execute avec \"noIter\" car BEAUCOUP plus rapide a executer)"
   ]
  },
  {
   "cell_type": "code",
   "execution_count": null,
   "metadata": {},
   "outputs": [],
   "source": []
  }
 ],
 "metadata": {
  "kernelspec": {
   "display_name": "Python 3",
   "language": "python",
   "name": "python3"
  },
  "language_info": {
   "codemirror_mode": {
    "name": "ipython",
    "version": 3
   },
   "file_extension": ".py",
   "mimetype": "text/x-python",
   "name": "python",
   "nbconvert_exporter": "python",
   "pygments_lexer": "ipython3",
   "version": "3.7.4"
  }
 },
 "nbformat": 4,
 "nbformat_minor": 2
}
