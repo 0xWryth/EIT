{
 "cells": [
  {
   "cell_type": "code",
   "execution_count": 2,
   "metadata": {},
   "outputs": [],
   "source": [
    "import re"
   ]
  },
  {
   "cell_type": "code",
   "execution_count": 1,
   "metadata": {},
   "outputs": [],
   "source": [
    "path = \"./train_label_final.txt\""
   ]
  },
  {
   "cell_type": "code",
   "execution_count": 34,
   "metadata": {},
   "outputs": [],
   "source": [
    "def convert_txt_to_csv(path, out):\n",
    "    f = open(path, \"r\", encoding=\"UTF-8\")\n",
    "    lines = f.readlines()\n",
    "    f.close()\n",
    "    decisions = [\"pos\", \"neg\", \"neu\", \"irr\"]\n",
    "\n",
    "    # Future CSV content !\n",
    "    content = \"text,opinion\"\n",
    "\n",
    "    for l in lines:\n",
    "        # Removing empty lines\n",
    "        sl = l.split()\n",
    "        if len(sl) == 0:\n",
    "            continue\n",
    "\n",
    "        # Removing no consensus line\n",
    "        m = re.match(r\"[(](.*),(.*),(consensus)[)]\", sl[0])\n",
    "        if m is None:\n",
    "            continue\n",
    "\n",
    "        # Parsing opinion\n",
    "        try:\n",
    "            opinion = m.string.split(\",\")[1]\n",
    "            if opinion in decisions:\n",
    "                # Opinion string is converted to an integer value\n",
    "                index = decisions.index(opinion)\n",
    "\n",
    "                # Removing opinion\n",
    "                text = re.sub(r\"[(](.*),(.*),(consensus)[)]\", \"\", l)\n",
    "\n",
    "                # Removing comma since comma is CSV separator\n",
    "                text = text.replace(\",\", \" \")\n",
    "\n",
    "                # Remvoing extra \\n\n",
    "                text = text.replace(\"\\n\", \" \")\n",
    "\n",
    "                # Removing extra space\n",
    "                text = ' '.join(text.split())\n",
    "\n",
    "                content = content + \"\\n\" + text + \",\" + str(index) \n",
    "            else:\n",
    "                # Found opinion is... Wrong !\n",
    "                continue\n",
    "        except:\n",
    "            # Opinion is not found on the line\n",
    "            continue\n",
    "\n",
    "    # Writing CSV content to out file\n",
    "    csv = open(out, \"w\", encoding=\"UTF-8\")\n",
    "    csv.write(content)\n",
    "    csv.close()"
   ]
  },
  {
   "cell_type": "code",
   "execution_count": 35,
   "metadata": {},
   "outputs": [],
   "source": [
    "convert_txt_to_csv(path, \"csv.csv\")"
   ]
  }
 ],
 "metadata": {
  "interpreter": {
   "hash": "f47a5ab19bc45083382657f6f2388be666e731531973f00c5e26ff8c66213130"
  },
  "kernelspec": {
   "display_name": "Python 3.9.0 64-bit",
   "language": "python",
   "name": "python3"
  },
  "language_info": {
   "codemirror_mode": {
    "name": "ipython",
    "version": 3
   },
   "file_extension": ".py",
   "mimetype": "text/x-python",
   "name": "python",
   "nbconvert_exporter": "python",
   "pygments_lexer": "ipython3",
   "version": "3.9.0"
  },
  "orig_nbformat": 4
 },
 "nbformat": 4,
 "nbformat_minor": 2
}
