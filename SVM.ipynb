{
 "cells": [
  {
   "cell_type": "markdown",
   "metadata": {
    "colab_type": "text",
    "id": "bOT3u0GZKWc8"
   },
   "source": [
    "# Comparaison des performances par rapport à un SVM de type classifieur"
   ]
  },
  {
   "cell_type": "markdown",
   "metadata": {
    "colab_type": "text",
    "id": "nlmi-culKWdA"
   },
   "source": [
    "## Lecture des données, tokenization et BoW\n",
    "\n",
    "Dans cette section vous devez lire les données (seulement les consensus).\n",
    "\n",
    "Vous devez construire votre tokenizer (et de préférence le sauvegarder).\n",
    "\n",
    "Vous devez transformer votre jeu de données (liste de tweets et labels) en liste de vecteurs BoW + liste d'indice des labels."
   ]
  },
  {
   "cell_type": "code",
   "execution_count": 1,
   "metadata": {
    "colab": {},
    "colab_type": "code",
    "id": "B9Ekg9fkKWdD"
   },
   "outputs": [],
   "source": [
    "# Les imports sont préparé ici\n",
    "# n'enlevez pas les % car il permettent le reload de modules ou l'affichage dans le notebook\n",
    "%matplotlib inline\n",
    "%load_ext autoreload\n",
    "%autoreload 2\n",
    "import os\n",
    "import numpy as np\n",
    "import random\n",
    "import pickle as pkl\n",
    "import re\n",
    "import matplotlib.pyplot as plt\n",
    "from sklearn.metrics import f1_score"
   ]
  },
  {
   "cell_type": "markdown",
   "metadata": {},
   "source": [
    "**Tache 1** 1pt.\n",
    "\n",
    "Importez/réécrivez le code permettant de lire vos données et les transformer en BoW.\n",
    "\n",
    "A la fin de cette cellule, vous devrez avoir trois variables d'instanciées :\n",
    "- X : la liste des vecteurs BoW de vos tweets\n",
    "- Y_one_hot : la liste des indices des labels de vos tweets (Y_one_hot[i] doit contenir le label de X[i])\n",
    "- Y_one_hot : la liste des labels sous forme one_hot (c'est similaire à un BoW, vous prenez un vecteur de zeros et mettez un 1 à l'indice du label)"
   ]
  },
  {
   "cell_type": "code",
   "execution_count": 2,
   "metadata": {
    "id": "G74xriNqIWKU"
   },
   "outputs": [],
   "source": [
    "def read_corpus(path, consensus=False):\n",
    "    f = open(path, 'r', encoding='UTF-8')\n",
    "    lines = f.readlines()\n",
    "    f.close()\n",
    "    corpus = []\n",
    "    for l in lines:\n",
    "        sl = l.split()\n",
    "        if len(sl) == 0:\n",
    "            continue\n",
    "        if consensus:\n",
    "            m = re.match(r\"[(](.*),(.*),(consensus)[)]\", sl[0])\n",
    "            if m is not None:\n",
    "                corpus.append([sl[1:], sl[0]])\n",
    "        else:\n",
    "            corpus.append([sl[1:], sl[0]])\n",
    "    return corpus\n",
    "\n",
    "\n",
    "\n",
    "class WordTokenizer:\n",
    "    def __init__(self, bos='BOS', eos='EOS', unk='UNK', pad='PAD'):\n",
    "\n",
    "        self.pad = pad\n",
    "        self.unk = unk\n",
    "        self.bos = bos\n",
    "        self.eos = eos\n",
    "\n",
    "        self.word2id = {pad: 0,\n",
    "                        unk: 1,\n",
    "                        bos: 2,\n",
    "                        eos: 3}\n",
    "\n",
    "        self.id2word = {0: pad,\n",
    "                        1: unk,\n",
    "                        2: bos,\n",
    "                        3: eos}\n",
    "\n",
    "    def add_to_voc(self, sent):\n",
    "        \"\"\"\n",
    "        :param sentence: string\n",
    "        :return: None\n",
    "        \"\"\"\n",
    "        for w in sent:\n",
    "            if w not in self.word2id.keys():\n",
    "                self.word2id[w] = len(self.id2word.keys())\n",
    "                self.id2word[self.word2id[w]] = w\n",
    "\n",
    "    def str_to_ids(self, sentence):\n",
    "        sent = sentence.split()\n",
    "        ret = []\n",
    "        for w in sent:\n",
    "            if w not in self.word2id.keys():\n",
    "                ret.append(self.word2id[self.unk])\n",
    "            else:\n",
    "                ret.append(self.word2id[w])\n",
    "\n",
    "        return ret\n",
    "\n",
    "    def words_to_ids(self, sent):\n",
    "        ret = []\n",
    "        for w in sent:\n",
    "            if w not in self.word2id.keys():\n",
    "                ret.append(self.word2id[self.unk])\n",
    "            else:\n",
    "                ret.append(self.word2id[w])\n",
    "\n",
    "        return ret\n",
    "\n",
    "    def ids_to_words(self, ids):\n",
    "        words = []\n",
    "        for i in ids:\n",
    "            words.append(self.id2word[i])\n",
    "        return words\n",
    "\n",
    "\n",
    "class CharTokenizer:\n",
    "    def __init__(self, bos='<B>', eos='<E>', unk='<U>', pad='<P>'):\n",
    "\n",
    "        self.pad = pad\n",
    "        self.unk = unk\n",
    "        self.bos = bos\n",
    "        self.eos = eos\n",
    "\n",
    "        self.char2id = {pad: 0,\n",
    "                        unk: 1,\n",
    "                        bos: 2,\n",
    "                        eos: 3}\n",
    "\n",
    "        self.id2char = {0: pad,\n",
    "                        1: unk,\n",
    "                        2: bos,\n",
    "                        3: eos}\n",
    "\n",
    "    def add_to_voc(self, sentence):\n",
    "        \"\"\"\n",
    "        adds vocabulary (chars) found in sentence to the dictionaries\n",
    "        :param sentence: string\n",
    "        :return: None\n",
    "        \"\"\"\n",
    "        for w in sentence:\n",
    "            if w not in self.char2id.keys():\n",
    "                self.char2id[w] = len(self.id2char.keys())\n",
    "                self.id2char[self.char2id[w]] = w\n",
    "\n",
    "    def chars_to_ids(self, sentence):\n",
    "        ret = []\n",
    "        for c in sentence:\n",
    "            if c not in self.char2id.keys():\n",
    "                ret.append(self.char2id[self.unk])\n",
    "            else:\n",
    "                ret.append(self.char2id[c])\n",
    "\n",
    "        return ret\n",
    "\n",
    "    def ids_to_chars(self, ids):\n",
    "        chars = \"\"\n",
    "        for i in ids:\n",
    "            chars += self.id2char[i]\n",
    "        return chars\n",
    "\n",
    "\n",
    "class TrigramTokenizer:\n",
    "    def __init__(self, bos='<B>', eos='<E>', unk='<U>', pad='<P>'):\n",
    "\n",
    "        self.pad = pad\n",
    "        self.unk = unk\n",
    "        self.bos = bos\n",
    "        self.eos = eos\n",
    "\n",
    "        self.char2id = {pad: 0,\n",
    "                        unk: 1,\n",
    "                        bos: 2,\n",
    "                        eos: 3}\n",
    "\n",
    "        self.id2char = {0: pad,\n",
    "                        1: unk,\n",
    "                        2: bos,\n",
    "                        3: eos}\n",
    "\n",
    "    def add_to_voc(self, sentence):\n",
    "        \"\"\"\n",
    "        adds vocabulary (chars) found in sentence to the dictionaries\n",
    "        :param sentence: string\n",
    "        :return: None\n",
    "        \"\"\"\n",
    "        for i in range(len(sentence)-3):\n",
    "            if sentence[i:i+3] not in self.char2id.keys():\n",
    "                self.char2id[sentence[i:i+3]] = len(self.id2char.keys())\n",
    "                self.id2char[self.char2id[sentence[i:i+3]]] = sentence[i:i+3]\n",
    "\n",
    "    def chars_to_ids(self, sentence):\n",
    "        ret = []\n",
    "        for i in range(len(sentence)-3):\n",
    "            if sentence[i:i+3] not in self.char2id.keys():\n",
    "                ret.append(self.char2id[self.unk])\n",
    "            else:\n",
    "                ret.append(self.char2id[sentence[i:i+3]])\n",
    "\n",
    "        return ret\n",
    "\n",
    "    def ids_to_chars(self, ids):\n",
    "        chars = \"\"\n",
    "        for i in ids:\n",
    "            chars += self.id2char[i]\n",
    "        return chars\n",
    "\n",
    "def list_to_bow(sent, dic):\n",
    "    \"sent list of ids, dic: dictionary {word, index}\"\n",
    "    vec = np.zeros(len(dic), dtype=int)\n",
    "    for i in sent:\n",
    "        vec[i] = 1\n",
    "    return vec\n",
    "\n",
    "\n",
    "def list_to_bow_freq(sent, dic):\n",
    "    vec = np.zeros(len(dic))\n",
    "    for i in sent:\n",
    "        vec[i] += 1\n",
    "    for i in range(len(vec)):\n",
    "        vec[i] = vec[i] / len(sent)\n",
    "    return vec\n",
    "\n",
    "\n",
    "def n_grams(sents, n):\n",
    "\n",
    "    new_sents = []\n",
    "    dic = {}\n",
    "\n",
    "    for s in sents:\n",
    "        ns = []\n",
    "        for i in range(len(s)-(n-1)):\n",
    "            t = \"\"\n",
    "            for j in range(n):\n",
    "                t += f\"{s[i+j]} \"\n",
    "            t = t[:-1]\n",
    "            ns.append(t)\n",
    "            if t not in dic:\n",
    "                dic[t] = len(dic.keys())\n",
    "\n",
    "        new_sents.append(ns)\n",
    "    return new_sents, dic"
   ]
  },
  {
   "cell_type": "code",
   "execution_count": 3,
   "metadata": {},
   "outputs": [
    {
     "name": "stdout",
     "output_type": "stream",
     "text": [
      "[0 0 0 ... 0 0 0]\n",
      "11762\n",
      "[0. 0. 0. ... 0. 0. 0.]\n",
      "11762\n",
      "[1. 0. 0. 0.]\n"
     ]
    }
   ],
   "source": [
    "# mettez votre code ici\n",
    "# path = \"C:/Users/Lucas/Downloads/train_label_final.txt\"\n",
    "path = \"train_label_final.txt\"\n",
    "\n",
    "corpus = read_corpus(path, consensus=True)\n",
    "tokenizer = WordTokenizer()\n",
    "\n",
    "labels = {'pos': 0, 'neg': 1, 'neu': 2, 'irr': 3}\n",
    "Y_one_hot = [] # Pour les labels il faut des vecteurs en one_hot, par exemple pour irr : [0,0,0,1]\n",
    "Y = []\n",
    "for i in range(len(corpus)):\n",
    "    lab = re.match(r\"[(].*,(.*),.*[)]\", corpus[i][1])\n",
    "    ap = np.zeros(len(labels.keys()))\n",
    "    ap[labels[lab[1].lower()]] = 1\n",
    "    Y.append(labels[lab[1].lower()])\n",
    "    Y_one_hot.append(ap)\n",
    "\n",
    "\n",
    "tweets = [c[0] for c in corpus]\n",
    "for t in tweets:\n",
    "    tokenizer.add_to_voc(t)\n",
    "\n",
    "    \n",
    "tweets_ids = [tokenizer.words_to_ids(t) for t in tweets]\n",
    "\n",
    "\n",
    "X = [list_to_bow(tw, tokenizer.word2id) for tw in tweets_ids]\n",
    "X_freq = [list_to_bow_freq(tw, tokenizer.word2id) for tw in tweets_ids]\n",
    "\n",
    "\n",
    "print(X[0]) # x sont les tweets transformés en vecteurs BoW\n",
    "print(len(X[0]))\n",
    "print(X_freq[0])\n",
    "print(len(X_freq[0]))\n",
    "print(Y_one_hot[0]) # y sont les labels transformés en indice"
   ]
  },
  {
   "cell_type": "markdown",
   "metadata": {
    "colab_type": "text",
    "id": "MvZIFXNNKWdV"
   },
   "source": [
    "## Création du modèle\n",
    "\n",
    "Nous allons d'abord créer une couche linéaire.\n",
    "Celle ci comprendra le terme de biais.\n",
    "\n",
    "Rappel de la formule de la couche linéaire: \n",
    "$$\n",
    "\\mathbf{a} = \\mathbf{W}\\mathbf{x}+ \\mathbf{b}\n",
    "$$\n",
    "\n",
    "Notons *n_in* et *n_out* respectivement les dimensions de $\\mathbf{x}$ et $\\mathbf{y}$. \n",
    "\n",
    "**Tache 2** 1pt.\n",
    "- Coder la fonction d'initialisation suivante, l'initialisation est aléatoire Gaussien centrée en 0 avec un écart type 1 / sqrt(n_in). La fonction retourne W et b. \n"
   ]
  },
  {
   "cell_type": "code",
   "execution_count": 4,
   "metadata": {},
   "outputs": [],
   "source": [
    "train_X = X[:1500]\n",
    "train_Y = Y_one_hot[:1500]\n",
    "train_Y_nhot = Y[:1500]\n",
    "\n",
    "valid_X = X[1500:]\n",
    "valid_Y = Y_one_hot[1500:]\n",
    "valid_Y_nhot = Y[1500:]\n"
   ]
  },
  {
   "cell_type": "markdown",
   "metadata": {},
   "source": [
    "## scikit-learn"
   ]
  },
  {
   "cell_type": "code",
   "execution_count": 9,
   "metadata": {},
   "outputs": [],
   "source": [
    "from sklearn.svm import SVC\n",
    "from sklearn.metrics import confusion_matrix\n",
    "from sklearn.metrics import ConfusionMatrixDisplay"
   ]
  },
  {
   "cell_type": "code",
   "execution_count": null,
   "metadata": {},
   "outputs": [
    {
     "name": "stdout",
     "output_type": "stream",
     "text": [
      "C= 1e-05    training score: 0.42733333333333334    valid score: 0.4176372712146423\n",
      "C= 0.0001    training score: 0.42733333333333334    valid score: 0.4176372712146423\n"
     ]
    }
   ],
   "source": [
    "# On prend un kernel linéaire\n",
    "kernel = 'linear'\n",
    "\n",
    "linear_training_score = []\n",
    "linear_valid_score = []\n",
    "Cvalues = []\n",
    "\n",
    "clf = SVC(kernel=kernel)\n",
    "\n",
    "for C in [10**n for n in range(-5,6,1)]:\n",
    "    Cvalues.append(C)\n",
    "    clf.set_params(C=C)\n",
    "    clf.fit(train_X, train_Y_nhot)\n",
    "    \n",
    "    pred_train_Y = clf.predict(train_X)\n",
    "    pred_valid_Y = clf.predict(valid_X)\n",
    "    \n",
    "    trainscore = f1_score(train_Y_nhot, pred_train_Y, average='micro', labels=[i for i in range(4)])\n",
    "    validscore = f1_score(valid_Y_nhot, pred_valid_Y, average='micro', labels=[i for i in range(4)])\n",
    "    \n",
    "    linear_training_score.append(trainscore)\n",
    "    linear_valid_score.append(validscore)\n",
    "    \n",
    "    print(\"C=\", C, \"   training score:\", trainscore, \"   valid score:\", validscore)\n",
    "    \n",
    "\n",
    "plt.title(\"F1 score en fonction de la valeur du paramètre C\")\n",
    "plt.semilogx(Cvalues, linear_training_score, label= \"train score\")\n",
    "plt.plot(Cvalues, linear_valid_score, label= \"valid score\")\n",
    "plt.xlabel(\"C\")\n",
    "plt.ylabel(\"scores\")\n",
    "plt.legend()\n",
    "plt.show()"
   ]
  },
  {
   "cell_type": "markdown",
   "metadata": {},
   "source": [
    "On fixe l'hyperparamètre C à 0.01 car au délà on a de l'overfitting"
   ]
  },
  {
   "cell_type": "code",
   "execution_count": 7,
   "metadata": {},
   "outputs": [],
   "source": [
    "clf = SVC(kernel='linear')\n",
    "clf.set_params(C=0.01)\n",
    "clf.fit(train_X, train_Y_nhot)\n",
    "pred_valid_Y = clf.predict(valid_X)"
   ]
  },
  {
   "cell_type": "code",
   "execution_count": 19,
   "metadata": {},
   "outputs": [
    {
     "data": {
      "text/plain": [
       "<sklearn.metrics._plot.confusion_matrix.ConfusionMatrixDisplay at 0x2940a370cf8>"
      ]
     },
     "execution_count": 19,
     "metadata": {},
     "output_type": "execute_result"
    },
    {
     "data": {
      "image/png": "[encoded data removed]",
      "text/plain": [
       "<Figure size 432x288 with 2 Axes>"
      ]
     },
     "metadata": {
      "needs_background": "light"
     },
     "output_type": "display_data"
    }
   ],
   "source": [
    "matrice = confusion_matrix(valid_Y_nhot, pred_valid_Y)\n",
    "\n",
    "# df_cm = DataFrame(matrice, index = ['pos', 'neg', 'neu', 'irr'],\n",
    "#                      columns = ['pos', 'neg', 'neu', 'irr'])\n",
    "# plt.figure(figsize = (10,7))\n",
    "# heatmap(df_cm, annot=True)\n",
    "# plt.title(\"Confusion Matrix\")\n",
    "# plt.xlabel(\"predicted\")\n",
    "# plt.ylabel(\"actual\")\n",
    "# plt.show()\n",
    "\n",
    "disp = ConfusionMatrixDisplay(confusion_matrix=matrice, display_labels=labels.keys())\n",
    "disp.plot()"
   ]
  },
  {
   "cell_type": "code",
   "execution_count": null,
   "metadata": {},
   "outputs": [],
   "source": []
  }
 ],
 "metadata": {
  "colab": {
   "name": "TP1.ipynb",
   "provenance": [],
   "version": "0.3.2"
  },
  "kernelspec": {
   "display_name": "Python 3",
   "language": "python",
   "name": "python3"
  },
  "language_info": {
   "codemirror_mode": {
    "name": "ipython",
    "version": 3
   },
   "file_extension": ".py",
   "mimetype": "text/x-python",
   "name": "python",
   "nbconvert_exporter": "python",
   "pygments_lexer": "ipython3",
   "version": "3.7.2"
  }
 },
 "nbformat": 4,
 "nbformat_minor": 1
}
